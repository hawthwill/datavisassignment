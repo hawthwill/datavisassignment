{
 "cells": [
  {
   "cell_type": "code",
   "execution_count": null,
   "metadata": {},
   "outputs": [],
   "source": [
    "# import standard packages\n",
    "import numpy as np\n",
    "import matplotlib.pyplot as plt\n",
    "import os\n",
    "import pandas as pd\n",
    "import seaborn as sns\n",
    "import pandas as pd"
   ]
  },
  {
   "cell_type": "code",
   "execution_count": null,
   "metadata": {},
   "outputs": [],
   "source": [
    "# set seaborn style\n",
    "sns.set_theme() #reset to default\n",
    "# sns.set_context('paper')\n",
    "sns.set_palette('rocket')"
   ]
  },
  {
   "cell_type": "code",
   "execution_count": null,
   "metadata": {},
   "outputs": [],
   "source": [
    "# import new cases by region data\n",
    "newcases_region = pd.read_csv(r'newCasesByPublishDate_region_2023-05-18.csv')"
   ]
  },
  {
   "cell_type": "code",
   "execution_count": null,
   "metadata": {},
   "outputs": [],
   "source": [
    "# head\n",
    "newcases_region.head(5)"
   ]
  },
  {
   "cell_type": "code",
   "execution_count": null,
   "metadata": {},
   "outputs": [],
   "source": [
    "# tail\n",
    "newcases_region.tail(5)"
   ]
  },
  {
   "cell_type": "code",
   "execution_count": null,
   "metadata": {},
   "outputs": [],
   "source": [
    "# get dataset info\n",
    "newcases_region.info()"
   ]
  },
  {
   "cell_type": "code",
   "execution_count": null,
   "metadata": {},
   "outputs": [],
   "source": [
    "# verify the date range\n",
    "print(f\"Most recent data entry: {newcases_region['date'][0]}\")\n",
    "print(f\"First data entry: {newcases_region['date'][10142]}\")"
   ]
  },
  {
   "cell_type": "code",
   "execution_count": null,
   "metadata": {},
   "outputs": [],
   "source": [
    "# get the data types of the columns\n",
    "newcases_region.dtypes"
   ]
  },
  {
   "cell_type": "code",
   "execution_count": null,
   "metadata": {},
   "outputs": [],
   "source": [
    "# change data type of date column from object to date\n",
    "newcases_region['date'] = pd.to_datetime(newcases_region['date'], format='%d/%m/%Y')\n",
    "newcases_region.dtypes"
   ]
  },
  {
   "cell_type": "code",
   "execution_count": null,
   "metadata": {},
   "outputs": [],
   "source": [
    "#  check that date conversion worked as expected\n",
    "newcases_region.head(5)"
   ]
  },
  {
   "cell_type": "code",
   "execution_count": null,
   "metadata": {},
   "outputs": [],
   "source": [
    "# check for null values\n",
    "newcases_region['newCasesByPublishDate'].isnull().sum()"
   ]
  },
  {
   "cell_type": "code",
   "execution_count": null,
   "metadata": {},
   "outputs": [],
   "source": [
    "# check for values == 0\n",
    "(newcases_region['newCasesByPublishDate'] == 0).sum()"
   ]
  },
  {
   "attachments": {},
   "cell_type": "markdown",
   "metadata": {},
   "source": [
    "Out of 10142 rows, 2890 are equal to zero. This is likely due to no data being reported on those days. Therefore it makes sense to drop these rows. "
   ]
  },
  {
   "cell_type": "code",
   "execution_count": null,
   "metadata": {},
   "outputs": [],
   "source": [
    "# drop rows == 0\n",
    "newcases_region.drop(newcases_region[newcases_region['newCasesByPublishDate'] == 0].index, inplace=True)\n",
    "(newcases_region['newCasesByPublishDate'] == 0).sum()"
   ]
  },
  {
   "cell_type": "code",
   "execution_count": null,
   "metadata": {},
   "outputs": [],
   "source": [
    "# investigate how many rows are left, expected to be 10143 - 2890 = 7253\n",
    "newcases_region.info()"
   ]
  },
  {
   "cell_type": "code",
   "execution_count": null,
   "metadata": {},
   "outputs": [],
   "source": [
    "# describe new cases data\n",
    "newcases_region['newCasesByPublishDate'].describe()"
   ]
  },
  {
   "cell_type": "code",
   "execution_count": null,
   "metadata": {},
   "outputs": [],
   "source": [
    "# multiple line plot of infections per region\n",
    "p = sns.relplot(data=newcases_region, x='date', y='newCasesByPublishDate', hue = 'areaName', kind='line')\n",
    "p.fig.set_size_inches(15,5)\n",
    "plt.show()\n",
    "plt.legend(loc='upper right')"
   ]
  },
  {
   "cell_type": "code",
   "execution_count": null,
   "metadata": {},
   "outputs": [],
   "source": [
    "# multiple line plot of infections per region with a log scale\n",
    "#plt.figure(figsize=(30,30))\n",
    "p=sns.relplot(data=newcases_region, x='date', y='newCasesByPublishDate', hue = 'areaName', kind='line')\n",
    "plt.yscale('log')\n",
    "p.fig.set_size_inches(15,5)\n",
    "#plt.show()"
   ]
  },
  {
   "cell_type": "code",
   "execution_count": null,
   "metadata": {},
   "outputs": [],
   "source": [
    "# select rows between January and June 2022 with the large spike in new cases\n",
    "mask = (newcases_region['date'] >= '2022-01-01') & (newcases_region['date'] < '2022-05-01')\n",
    "newcases_region_start_2022 = newcases_region.loc[mask]\n",
    "newcases_region_start_2022.head(5)"
   ]
  },
  {
   "cell_type": "code",
   "execution_count": null,
   "metadata": {},
   "outputs": [],
   "source": [
    "newcases_region_start_2022.tail(5)"
   ]
  },
  {
   "cell_type": "code",
   "execution_count": null,
   "metadata": {},
   "outputs": [],
   "source": [
    "# plot infections for first half of 2022 to further investigate the large spike\n",
    "p=sns.relplot(data=newcases_region_start_2022, x='date', y='newCasesByPublishDate', hue = 'areaName', kind='line')\n",
    "plt.yscale('log')\n",
    "p.fig.set_size_inches(15,5)"
   ]
  },
  {
   "attachments": {},
   "cell_type": "markdown",
   "metadata": {},
   "source": [
    "Two things are notable from inspecting these dates more closely:\n",
    "1. The large spike at the end of January is by nearly an order of magnitude. This needs to be investigated as a possible outlier. \n",
    "2. All regions follow a pattern in which they spike on the same day. This needs to be investigated. Is it linked to the Covid-19 data reporting schedule? How could this be the case if all values of 0 have been dropped? To make the overall trend of the dataset more apparent, it will be useful to apply a smoothing algorithm to the trend line. "
   ]
  },
  {
   "cell_type": "code",
   "execution_count": null,
   "metadata": {},
   "outputs": [],
   "source": [
    "# plot the full dataset with a smoothed line using scipy B-spline library\n",
    "from scipy.interpolate import make_interp_spline\n"
   ]
  },
  {
   "attachments": {},
   "cell_type": "markdown",
   "metadata": {},
   "source": [
    "# Choropleth"
   ]
  },
  {
   "cell_type": "code",
   "execution_count": null,
   "metadata": {},
   "outputs": [],
   "source": [
    "import json\n",
    "import plotly.graph_objs as go\n",
    "# import plotly.plotly as py\n",
    "import plotly.express as px"
   ]
  },
  {
   "cell_type": "code",
   "execution_count": null,
   "metadata": {},
   "outputs": [],
   "source": [
    "# open json\n",
    "f = open('eer.json')"
   ]
  },
  {
   "cell_type": "code",
   "execution_count": null,
   "metadata": {},
   "outputs": [],
   "source": [
    "# load geojson\n",
    "regions = json.load(f)"
   ]
  },
  {
   "cell_type": "code",
   "execution_count": null,
   "metadata": {},
   "outputs": [],
   "source": [
    "# inspect json features\n",
    "regions[\"features\"][0]"
   ]
  },
  {
   "cell_type": "code",
   "execution_count": null,
   "metadata": {},
   "outputs": [],
   "source": [
    "# sort dataframe by date\n",
    "newcases_region.sort_values(by='date', inplace=True)\n",
    "newcases_region.head()"
   ]
  },
  {
   "cell_type": "code",
   "execution_count": null,
   "metadata": {},
   "outputs": [],
   "source": [
    "# usea areaName as mapping identifier\n",
    "fig = px.choropleth_mapbox(\n",
    "    data_frame=newcases_region,\n",
    "    locations=\"areaName\",\n",
    "    featureidkey=\"properties.EER13NM\",\n",
    "    geojson=regions,\n",
    "    color=\"newCasesByPublishDate\",\n",
    "    hover_name=\"newCasesByPublishDate\",\n",
    "    mapbox_style=\"open-street-map\",\n",
    "    zoom=4,\n",
    "    center = {\"lat\": 55, \"lon\": 0},\n",
    "    animation_group=\"date\",\n",
    "    width=800,\n",
    "    height=600\n",
    "    )\n",
    "fig.show()"
   ]
  },
  {
   "cell_type": "code",
   "execution_count": null,
   "metadata": {},
   "outputs": [],
   "source": [
    "# slider might not be showing due to too many days. Summarize by year to see if it works\n",
    "newcases_region['Year'] = newcases_region['date'].dt.strftime('%Y')\n",
    "newcases_region['Month'] = newcases_region['date'].dt.strftime('%m')\n",
    "newcases_region.head()"
   ]
  },
  {
   "cell_type": "code",
   "execution_count": null,
   "metadata": {},
   "outputs": [],
   "source": [
    "# check dtypes\n",
    "newcases_region.dtypes"
   ]
  },
  {
   "cell_type": "code",
   "execution_count": null,
   "metadata": {},
   "outputs": [],
   "source": [
    "fig = px.choropleth_mapbox(\n",
    "    data_frame=newcases_region,\n",
    "    locations=\"areaName\",\n",
    "    featureidkey=\"properties.EER13NM\",\n",
    "    geojson=regions,\n",
    "    color=\"newCasesByPublishDate\",\n",
    "    hover_name=\"newCasesByPublishDate\",\n",
    "    mapbox_style=\"open-street-map\",\n",
    "    zoom=4,\n",
    "    center = {\"lat\": 55, \"lon\": 0},\n",
    "    animation_group=\"Year\",\n",
    "    width=800,\n",
    "    height=600\n",
    "    )\n",
    "fig.show()"
   ]
  },
  {
   "cell_type": "code",
   "execution_count": null,
   "metadata": {},
   "outputs": [],
   "source": [
    "# combination of the separate year column and using animation_frame rather than animation_group worked\n",
    "fig = px.choropleth_mapbox(\n",
    "    data_frame=newcases_region,\n",
    "    locations=\"areaName\",\n",
    "    featureidkey=\"properties.EER13NM\",\n",
    "    geojson=regions,\n",
    "    color=\"newCasesByPublishDate\",\n",
    "    hover_name=\"newCasesByPublishDate\",\n",
    "    mapbox_style=\"open-street-map\",\n",
    "    zoom=4,\n",
    "    center = {\"lat\": 55, \"lon\": 0},\n",
    "    animation_frame=\"Year\",\n",
    "    width=800,\n",
    "    height=600\n",
    "    )\n",
    "fig.show()"
   ]
  },
  {
   "cell_type": "code",
   "execution_count": null,
   "metadata": {},
   "outputs": [],
   "source": [
    "# month won't work, so split the dataframe into 3 and do a separate plot for each year\n",
    "newcases_region_2020 = newcases_region[newcases_region['Year'] == '2020']\n",
    "newcases_region_2021 = newcases_region[newcases_region['Year'] == '2021']\n",
    "newcases_region_2022 = newcases_region[newcases_region['Year'] == '2022']\n",
    "newcases_region_2023 = newcases_region[newcases_region['Year'] == '2023']"
   ]
  },
  {
   "cell_type": "code",
   "execution_count": null,
   "metadata": {},
   "outputs": [],
   "source": [
    "newcases_region_2020.head()"
   ]
  },
  {
   "cell_type": "code",
   "execution_count": null,
   "metadata": {},
   "outputs": [],
   "source": [
    "newcases_region_2020.tail()"
   ]
  },
  {
   "cell_type": "code",
   "execution_count": null,
   "metadata": {},
   "outputs": [],
   "source": [
    "newcases_region_2023.head()"
   ]
  },
  {
   "cell_type": "code",
   "execution_count": null,
   "metadata": {},
   "outputs": [],
   "source": [
    "newcases_region_2023.tail()"
   ]
  },
  {
   "cell_type": "code",
   "execution_count": null,
   "metadata": {},
   "outputs": [],
   "source": [
    "newcases_region['month_year'] = newcases_region['date'].dt.strftime('%m/%Y')\n",
    "newcases_region.head()"
   ]
  },
  {
   "cell_type": "code",
   "execution_count": null,
   "metadata": {},
   "outputs": [],
   "source": [
    "# plot 2020 per month\n",
    "fig = px.choropleth_mapbox(\n",
    "    data_frame=newcases_region_2020,\n",
    "    locations=\"areaName\",\n",
    "    featureidkey=\"properties.EER13NM\",\n",
    "    geojson=regions,\n",
    "    color=\"newCasesByPublishDate\",\n",
    "    hover_name=\"newCasesByPublishDate\",\n",
    "    mapbox_style=\"open-street-map\",\n",
    "    zoom=4,\n",
    "    center = {\"lat\": 55, \"lon\": 0},\n",
    "    animation_frame=\"Month\",\n",
    "    width=800,\n",
    "    height=600\n",
    "    )\n",
    "fig.show()"
   ]
  },
  {
   "cell_type": "code",
   "execution_count": null,
   "metadata": {},
   "outputs": [],
   "source": [
    "# plot 2021 per month\n",
    "fig = px.choropleth_mapbox(\n",
    "    data_frame=newcases_region_2021,\n",
    "    locations=\"areaName\",\n",
    "    featureidkey=\"properties.EER13NM\",\n",
    "    geojson=regions,\n",
    "    color=\"newCasesByPublishDate\",\n",
    "    hover_name=\"newCasesByPublishDate\",\n",
    "    mapbox_style=\"open-street-map\",\n",
    "    zoom=4,\n",
    "    center = {\"lat\": 55, \"lon\": 0},\n",
    "    animation_frame=\"Month\",\n",
    "    width=800,\n",
    "    height=600\n",
    "    )\n",
    "fig.show()"
   ]
  },
  {
   "cell_type": "code",
   "execution_count": null,
   "metadata": {},
   "outputs": [],
   "source": [
    "# plot 2022 per month\n",
    "fig = px.choropleth_mapbox(\n",
    "    data_frame=newcases_region_2022,\n",
    "    locations=\"areaName\",\n",
    "    featureidkey=\"properties.EER13NM\",\n",
    "    geojson=regions,\n",
    "    color=\"newCasesByPublishDate\",\n",
    "    hover_name=\"newCasesByPublishDate\",\n",
    "    mapbox_style=\"open-street-map\",\n",
    "    zoom=4,\n",
    "    center = {\"lat\": 55, \"lon\": 0},\n",
    "    animation_frame=\"Month\",\n",
    "    width=800,\n",
    "    height=600\n",
    "    )\n",
    "fig.show()"
   ]
  },
  {
   "cell_type": "code",
   "execution_count": null,
   "metadata": {},
   "outputs": [],
   "source": [
    "# plot 2023 per month\n",
    "fig = px.choropleth_mapbox(\n",
    "    data_frame=newcases_region_2023,\n",
    "    locations=\"areaName\",\n",
    "    featureidkey=\"properties.EER13NM\",\n",
    "    geojson=regions,\n",
    "    color=\"newCasesByPublishDate\",\n",
    "    hover_name=\"newCasesByPublishDate\",\n",
    "    mapbox_style=\"open-street-map\",\n",
    "    zoom=4,\n",
    "    center = {\"lat\": 55, \"lon\": 0},\n",
    "    animation_frame=\"Month\",\n",
    "    width=800,\n",
    "    height=600\n",
    "    )\n",
    "fig.show()"
   ]
  }
 ],
 "metadata": {
  "kernelspec": {
   "display_name": "base",
   "language": "python",
   "name": "python3"
  },
  "language_info": {
   "codemirror_mode": {
    "name": "ipython",
    "version": 3
   },
   "file_extension": ".py",
   "mimetype": "text/x-python",
   "name": "python",
   "nbconvert_exporter": "python",
   "pygments_lexer": "ipython3",
   "version": "3.9.13"
  },
  "orig_nbformat": 4,
  "vscode": {
   "interpreter": {
    "hash": "9bfd611bbe53a1c5d61d17570ebeae94a97b943d4df14291c862d7dd2286dfad"
   }
  }
 },
 "nbformat": 4,
 "nbformat_minor": 2
}
